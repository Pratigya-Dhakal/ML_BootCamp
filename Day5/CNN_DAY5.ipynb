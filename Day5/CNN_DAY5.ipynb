{
  "nbformat": 4,
  "nbformat_minor": 0,
  "metadata": {
    "colab": {
      "provenance": []
    },
    "kernelspec": {
      "name": "python3",
      "display_name": "Python 3"
    },
    "language_info": {
      "name": "python"
    }
  },
  "cells": [
    {
      "cell_type": "code",
      "execution_count": 7,
      "metadata": {
        "id": "9YORTOHqkOL3"
      },
      "outputs": [],
      "source": [
        "from tensorflow.keras.layers import Conv2D, MaxPooling2D , Flatten\n",
        "from tensorflow.keras.models import Sequential\n",
        "from tensorflow.keras.utils import to_categorical\n",
        "from tensorflow.keras.layers import Dense\n"
      ]
    },
    {
      "cell_type": "code",
      "source": [
        "from tensorflow.keras.datasets import mnist\n",
        "(x_train , y_train) , (x_test, y_test) = mnist.load_data()"
      ],
      "metadata": {
        "id": "SwTDQDEU5-nd"
      },
      "execution_count": 25,
      "outputs": []
    },
    {
      "cell_type": "code",
      "source": [
        "#convert the target label to categorical\n",
        "x_train_cnn = x_train.reshape((x_train.shape[0], 28, 28, 1))\n",
        "x_test_cnn = x_test.reshape((x_test.shape[0], 28, 28, 1))\n",
        "\n",
        "y_train_cnn = to_categorical(y_train)\n",
        "y_test_cnn = to_categorical(y_test)"
      ],
      "metadata": {
        "id": "9i2I586-6bO6"
      },
      "execution_count": 26,
      "outputs": []
    },
    {
      "cell_type": "code",
      "source": [
        "#create CNN MODel\n",
        "model_cnn = Sequential()\n",
        "model_cnn.add(Conv2D(32,(3,3), activation='relu' , input_shape= (28,28,1)))\n",
        "model_cnn.add(MaxPooling2D((2,2)))\n",
        "model_cnn.add(Conv2D(64,(3,3), activation='relu'))\n",
        "model_cnn.add(MaxPooling2D((2,2)))\n",
        "model_cnn.add(Flatten())\n",
        "model_cnn.add(Dense(64, activation='relu'))\n",
        "model_cnn.add(Dense(10, activation='softmax'))\n",
        "\n",
        "\n",
        "\n"
      ],
      "metadata": {
        "id": "Zvwu29Z-64We"
      },
      "execution_count": 22,
      "outputs": []
    },
    {
      "cell_type": "code",
      "source": [
        "#Compile the model\n",
        "model_cnn.compile(optimizer='adam', loss='categorical_crossentropy', metrics = ['accuracy'])\n",
        "model_cnn.fit(\n",
        "    x_train_cnn,\n",
        "    y_train_cnn,\n",
        "    epochs= 2,\n",
        "    batch_size=32,\n",
        "    validation_data = (x_test_cnn,y_test_cnn)\n",
        ")\n",
        "\n"
      ],
      "metadata": {
        "colab": {
          "base_uri": "https://localhost:8080/"
        },
        "id": "Zt06Iab89K4n",
        "outputId": "920e5417-fbc1-4641-a9c6-7964cbe5fb6a"
      },
      "execution_count": 27,
      "outputs": [
        {
          "output_type": "stream",
          "name": "stdout",
          "text": [
            "Epoch 1/2\n",
            "1875/1875 [==============================] - 68s 35ms/step - loss: 0.2406 - accuracy: 0.9477 - val_loss: 0.0741 - val_accuracy: 0.9773\n",
            "Epoch 2/2\n",
            "1875/1875 [==============================] - 67s 36ms/step - loss: 0.0612 - accuracy: 0.9820 - val_loss: 0.0510 - val_accuracy: 0.9828\n"
          ]
        },
        {
          "output_type": "execute_result",
          "data": {
            "text/plain": [
              "<keras.callbacks.History at 0x7f9b942e9420>"
            ]
          },
          "metadata": {},
          "execution_count": 27
        }
      ]
    }
  ]
}
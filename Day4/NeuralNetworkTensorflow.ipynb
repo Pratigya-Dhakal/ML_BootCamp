{
  "nbformat": 4,
  "nbformat_minor": 0,
  "metadata": {
    "colab": {
      "provenance": []
    },
    "kernelspec": {
      "name": "python3",
      "display_name": "Python 3"
    },
    "language_info": {
      "name": "python"
    }
  },
  "cells": [
    {
      "cell_type": "code",
      "execution_count": 4,
      "metadata": {
        "id": "1NKeT_R_yCtP"
      },
      "outputs": [],
      "source": [
        "import tensorflow as tf\n",
        "from tensorflow.keras.layers import Dense\n",
        "from tensorflow.keras.models import Sequential"
      ]
    },
    {
      "cell_type": "code",
      "source": [
        "from tensorflow.keras.datasets import mnist\n",
        "(x_train , y_train) , (x_test, y_test) = mnist.load_data()"
      ],
      "metadata": {
        "colab": {
          "base_uri": "https://localhost:8080/"
        },
        "id": "86MqZmOy5jel",
        "outputId": "983ff532-5bcf-4075-a18f-efd93796a7f2"
      },
      "execution_count": 8,
      "outputs": [
        {
          "output_type": "stream",
          "name": "stdout",
          "text": [
            "Downloading data from https://storage.googleapis.com/tensorflow/tf-keras-datasets/mnist.npz\n",
            "11490434/11490434 [==============================] - 0s 0us/step\n"
          ]
        }
      ]
    },
    {
      "cell_type": "code",
      "source": [
        "model = Sequential()\n",
        "#Input Layer\n",
        "model.add(Dense(128, activation = 'relu' , input_shape= (28 * 28 ,)))\n",
        "model.add(Dense(64, activation = 'relu' ))\n",
        "model.add(Dense(10, activation = 'softmax' ))\n",
        "\n",
        "\n",
        "\n",
        "# #Output layer\n",
        "# model,add(Dense(10,\"sigmoid\" ))"
      ],
      "metadata": {
        "id": "M5dcjc0q1Ise"
      },
      "execution_count": 7,
      "outputs": []
    },
    {
      "cell_type": "code",
      "source": [
        "x_train, x_test = x_train/255.0, x_test / 255.0\n",
        "x_train = x_train.reshape((x_train.shape[0], 28*28))\n",
        "x_test = x_test.reshape((x_test.shape[0], 28*28))\n"
      ],
      "metadata": {
        "id": "o6okCZWl6cWP"
      },
      "execution_count": 12,
      "outputs": []
    },
    {
      "cell_type": "code",
      "source": [
        "model.compile( optimizer =  'adam',\n",
        "              loss = 'sparse_categorical_crossentropy',\n",
        "              metrics=['accuracy'])\n",
        "model.fit(\n",
        "    x_train,\n",
        "    y_train,\n",
        "    epochs= 2,\n",
        "    batch_size=32,\n",
        "    validation_data = (x_test,y_test)\n",
        ")"
      ],
      "metadata": {
        "colab": {
          "base_uri": "https://localhost:8080/"
        },
        "id": "iJx3946h40Fk",
        "outputId": "6f68a0cc-593c-4f6d-c428-d98a826e32a2"
      },
      "execution_count": 13,
      "outputs": [
        {
          "output_type": "stream",
          "name": "stdout",
          "text": [
            "Epoch 1/2\n",
            "1875/1875 [==============================] - 13s 6ms/step - loss: 0.2371 - accuracy: 0.9308 - val_loss: 0.1168 - val_accuracy: 0.9651\n",
            "Epoch 2/2\n",
            "1875/1875 [==============================] - 10s 5ms/step - loss: 0.0995 - accuracy: 0.9704 - val_loss: 0.0940 - val_accuracy: 0.9712\n"
          ]
        },
        {
          "output_type": "execute_result",
          "data": {
            "text/plain": [
              "<keras.callbacks.History at 0x7fc73d6e58a0>"
            ]
          },
          "metadata": {},
          "execution_count": 13
        }
      ]
    },
    {
      "cell_type": "code",
      "source": [
        "from sklearn.metrics import f1_score\n",
        "from sklearn.metrics import precision_score\n",
        "import numpy as np\n",
        "from sklearn.metrics import recall_score"
      ],
      "metadata": {
        "id": "-TMI-pgK9-xO"
      },
      "execution_count": 18,
      "outputs": []
    },
    {
      "cell_type": "code",
      "source": [
        "test_loss, test_acc = model.evaluate (x_test,y_test)\n",
        "y_pred_nn = model.predict(x_test)\n",
        "\n",
        "f1_score_nn = f1_score(y_test,\n",
        "                       np.argmax(y_pred_nn, axis = 1),\n",
        "                       average ='weighted')\n",
        "precision = precision_score(y_test,\n",
        "                            np.argmax(y_pred_nn, axis = 1),\n",
        "                            average = 'weighted')\n",
        "\n",
        "recall = recall_score(y_test , np.argmax(y_pred_nn, axis =1) ,average = 'weighted')\n",
        "#Classification report\n",
        "\n",
        "#print result\n",
        "print(\"NN LOSS:\" ,test_loss)\n",
        "print(\"NN LOSS:\" ,test_acc)\n",
        "print(\"NN F1 Score:\" ,f1_score_nn)\n",
        "print(\"NN PRECISION:\" ,precision)\n",
        "print(\"NN Recall:\" ,recall)\n"
      ],
      "metadata": {
        "colab": {
          "base_uri": "https://localhost:8080/"
        },
        "id": "D7qgpchJ8xTM",
        "outputId": "a38321b7-a87e-4f5b-97d5-8a34683433df"
      },
      "execution_count": 20,
      "outputs": [
        {
          "output_type": "stream",
          "name": "stdout",
          "text": [
            "313/313 [==============================] - 2s 7ms/step - loss: 0.0940 - accuracy: 0.9712\n",
            "313/313 [==============================] - 1s 2ms/step\n",
            "NN LOSS: 0.09396090358495712\n",
            "NN LOSS: 0.9711999893188477\n",
            "NN F1 Score: 0.9712542201857796\n",
            "NN PRECISION: 0.9716700496647507\n",
            "NN Recall: 0.9712\n"
          ]
        }
      ]
    },
    {
      "cell_type": "code",
      "source": [
        "from sklearn.metrics import classification_report\n"
      ],
      "metadata": {
        "id": "ThTWIx7h_33A"
      },
      "execution_count": 21,
      "outputs": []
    },
    {
      "cell_type": "code",
      "source": [
        "cr = classification_report(y_test , np.argmax(y_pred_nn , axis = 1))\n",
        "print (cr)"
      ],
      "metadata": {
        "colab": {
          "base_uri": "https://localhost:8080/"
        },
        "id": "HO2YcGcl_-vi",
        "outputId": "ff35b053-8d9e-439b-8f6d-6e80128e8875"
      },
      "execution_count": 23,
      "outputs": [
        {
          "output_type": "stream",
          "name": "stdout",
          "text": [
            "              precision    recall  f1-score   support\n",
            "\n",
            "           0       0.98      0.99      0.98       980\n",
            "           1       0.99      0.99      0.99      1135\n",
            "           2       0.98      0.97      0.97      1032\n",
            "           3       0.92      0.99      0.95      1010\n",
            "           4       0.98      0.96      0.97       982\n",
            "           5       0.98      0.95      0.97       892\n",
            "           6       0.98      0.97      0.98       958\n",
            "           7       0.98      0.97      0.98      1028\n",
            "           8       0.96      0.96      0.96       974\n",
            "           9       0.96      0.97      0.97      1009\n",
            "\n",
            "    accuracy                           0.97     10000\n",
            "   macro avg       0.97      0.97      0.97     10000\n",
            "weighted avg       0.97      0.97      0.97     10000\n",
            "\n"
          ]
        }
      ]
    },
    {
      "cell_type": "markdown",
      "source": [
        "Kun case ma accuracy use garna mildanah "
      ],
      "metadata": {
        "id": "41QAEXckA1Cy"
      }
    },
    {
      "cell_type": "code",
      "source": [],
      "metadata": {
        "id": "3W7O6fqwA6mw"
      },
      "execution_count": null,
      "outputs": []
    }
  ]
}